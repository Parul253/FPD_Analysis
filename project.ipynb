{
 "cells": [
  {
   "cell_type": "code",
   "execution_count": 5,
   "id": "8e3d2bf5",
   "metadata": {},
   "outputs": [],
   "source": [
    "import numpy as np\n",
    "import pandas as pd\n",
    "import matplotlib.pyplot as plt\n",
    "import seaborn as sns"
   ]
  },
  {
   "cell_type": "markdown",
   "id": "75f8f3b8",
   "metadata": {},
   "source": [
    "# GET DATASET"
   ]
  },
  {
   "cell_type": "code",
   "execution_count": 8,
   "id": "8bab8d17",
   "metadata": {},
   "outputs": [],
   "source": [
    "columns_names=[\"E3\",\"H2\",\"E2\",\"H1\",\"E1\",\"E\"]\n",
    "df=pd.read_csv(\"data.csv\",sep=',',names=columns_names)"
   ]
  },
  {
   "cell_type": "code",
   "execution_count": 9,
   "id": "eceb5b9d",
   "metadata": {},
   "outputs": [
    {
     "data": {
      "text/html": [
       "<div>\n",
       "<style scoped>\n",
       "    .dataframe tbody tr th:only-of-type {\n",
       "        vertical-align: middle;\n",
       "    }\n",
       "\n",
       "    .dataframe tbody tr th {\n",
       "        vertical-align: top;\n",
       "    }\n",
       "\n",
       "    .dataframe thead th {\n",
       "        text-align: right;\n",
       "    }\n",
       "</style>\n",
       "<table border=\"1\" class=\"dataframe\">\n",
       "  <thead>\n",
       "    <tr style=\"text-align: right;\">\n",
       "      <th></th>\n",
       "      <th>E3</th>\n",
       "      <th>H2</th>\n",
       "      <th>E2</th>\n",
       "      <th>H1</th>\n",
       "      <th>E1</th>\n",
       "      <th>E</th>\n",
       "    </tr>\n",
       "  </thead>\n",
       "  <tbody>\n",
       "    <tr>\n",
       "      <th>0</th>\n",
       "      <td>77</td>\n",
       "      <td>250</td>\n",
       "      <td>186</td>\n",
       "      <td>140</td>\n",
       "      <td>2250</td>\n",
       "      <td>356.299597</td>\n",
       "    </tr>\n",
       "    <tr>\n",
       "      <th>1</th>\n",
       "      <td>120</td>\n",
       "      <td>350</td>\n",
       "      <td>337</td>\n",
       "      <td>250</td>\n",
       "      <td>2050</td>\n",
       "      <td>594.711794</td>\n",
       "    </tr>\n",
       "    <tr>\n",
       "      <th>2</th>\n",
       "      <td>50</td>\n",
       "      <td>250</td>\n",
       "      <td>120</td>\n",
       "      <td>180</td>\n",
       "      <td>2750</td>\n",
       "      <td>397.169697</td>\n",
       "    </tr>\n",
       "    <tr>\n",
       "      <th>3</th>\n",
       "      <td>77</td>\n",
       "      <td>450</td>\n",
       "      <td>242</td>\n",
       "      <td>280</td>\n",
       "      <td>2100</td>\n",
       "      <td>533.652731</td>\n",
       "    </tr>\n",
       "    <tr>\n",
       "      <th>4</th>\n",
       "      <td>50</td>\n",
       "      <td>200</td>\n",
       "      <td>109</td>\n",
       "      <td>200</td>\n",
       "      <td>3450</td>\n",
       "      <td>475.882888</td>\n",
       "    </tr>\n",
       "  </tbody>\n",
       "</table>\n",
       "</div>"
      ],
      "text/plain": [
       "    E3   H2   E2   H1    E1           E\n",
       "0   77  250  186  140  2250  356.299597\n",
       "1  120  350  337  250  2050  594.711794\n",
       "2   50  250  120  180  2750  397.169697\n",
       "3   77  450  242  280  2100  533.652731\n",
       "4   50  200  109  200  3450  475.882888"
      ]
     },
     "execution_count": 9,
     "metadata": {},
     "output_type": "execute_result"
    }
   ],
   "source": [
    "df.head()"
   ]
  },
  {
   "cell_type": "code",
   "execution_count": 13,
   "id": "1769a95f",
   "metadata": {},
   "outputs": [
    {
     "data": {
      "text/plain": [
       "(81, 6)"
      ]
     },
     "execution_count": 13,
     "metadata": {},
     "output_type": "execute_result"
    }
   ],
   "source": [
    "df.shape"
   ]
  },
  {
   "cell_type": "code",
   "execution_count": 16,
   "id": "462bb9e7",
   "metadata": {},
   "outputs": [],
   "source": [
    "input_data=df[[\"E3\",\"H2\",\"E2\",\"H1\",\"E1\"]].to_numpy()\n",
    "output_data=df[[\"E\"]].to_numpy()"
   ]
  },
  {
   "cell_type": "code",
   "execution_count": 15,
   "id": "e2276c6f",
   "metadata": {},
   "outputs": [
    {
     "name": "stdout",
     "output_type": "stream",
     "text": [
      "[[356.2995965]\n",
      " [594.7117945]\n",
      " [397.1696973]\n",
      " [533.6527312]\n",
      " [475.8828877]\n",
      " [419.4245187]\n",
      " [711.2898343]\n",
      " [541.5388347]\n",
      " [630.480341 ]\n",
      " [784.7885018]\n",
      " [558.0701835]\n",
      " [682.4359277]\n",
      " [545.3691994]\n",
      " [530.4304522]\n",
      " [420.9039418]\n",
      " [512.9576885]\n",
      " [446.7888892]\n",
      " [382.6971598]\n",
      " [488.5032947]\n",
      " [519.0499552]\n",
      " [456.6873923]\n",
      " [455.6030014]\n",
      " [545.432786 ]\n",
      " [568.4774227]\n",
      " [702.5111452]\n",
      " [745.7881396]\n",
      " [394.7736027]\n",
      " [519.5370003]\n",
      " [504.7810886]\n",
      " [466.8447227]\n",
      " [797.4837935]\n",
      " [541.7115156]\n",
      " [404.4629393]\n",
      " [642.5091799]\n",
      " [501.3825274]\n",
      " [629.9229934]\n",
      " [500.8773496]\n",
      " [575.0567456]\n",
      " [493.7101956]\n",
      " [421.5740609]\n",
      " [570.9365464]\n",
      " [311.9324739]\n",
      " [440.2372941]\n",
      " [590.8114438]\n",
      " [553.1311155]\n",
      " [426.002911 ]\n",
      " [440.9649635]\n",
      " [520.2895964]\n",
      " [608.797323 ]\n",
      " [480.0529465]\n",
      " [416.0375934]\n",
      " [277.7627831]\n",
      " [660.7711645]\n",
      " [373.8529064]\n",
      " [472.7268121]\n",
      " [701.6041968]\n",
      " [513.9064712]\n",
      " [339.5149337]\n",
      " [572.7937595]\n",
      " [404.4629393]\n",
      " [570.3624506]\n",
      " [585.0868557]\n",
      " [480.8035371]\n",
      " [716.5890236]\n",
      " [383.8315579]\n",
      " [657.7644084]\n",
      " [788.0552638]\n",
      " [388.013101 ]\n",
      " [399.825208 ]\n",
      " [498.5188482]\n",
      " [561.1110392]\n",
      " [425.6116148]\n",
      " [414.3361357]\n",
      " [524.132353 ]\n",
      " [330.3410744]\n",
      " [487.9805454]\n",
      " [790.5006682]\n",
      " [363.4847111]\n",
      " [369.1498845]\n",
      " [623.609487 ]\n",
      " [375.8883379]]\n"
     ]
    }
   ],
   "source": [
    "print(output_data)"
   ]
  },
  {
   "cell_type": "code",
   "execution_count": null,
   "id": "c471e095",
   "metadata": {},
   "outputs": [],
   "source": []
  }
 ],
 "metadata": {
  "kernelspec": {
   "display_name": "Python 3",
   "language": "python",
   "name": "python3"
  },
  "language_info": {
   "codemirror_mode": {
    "name": "ipython",
    "version": 3
   },
   "file_extension": ".py",
   "mimetype": "text/x-python",
   "name": "python",
   "nbconvert_exporter": "python",
   "pygments_lexer": "ipython3",
   "version": "3.8.10"
  }
 },
 "nbformat": 4,
 "nbformat_minor": 5
}
