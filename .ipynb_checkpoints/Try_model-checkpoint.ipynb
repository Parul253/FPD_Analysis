{
 "cells": [
  {
   "cell_type": "code",
   "execution_count": 1,
   "id": "9751d71e",
   "metadata": {},
   "outputs": [],
   "source": [
    "import pandas as pd\n",
    "import numpy as np\n"
   ]
  },
  {
   "cell_type": "code",
   "execution_count": 3,
   "id": "102966a3",
   "metadata": {},
   "outputs": [],
   "source": [
    "data= pd.read_csv(\"E:/analytics project/try_data.csv\")"
   ]
  },
  {
   "cell_type": "code",
   "execution_count": 2,
   "id": "176cae7c",
   "metadata": {},
   "outputs": [],
   "source": [
    "data= pd.read_csv(\"data.csv\", sep=',', header=None)"
   ]
  },
  {
   "cell_type": "code",
   "execution_count": 3,
   "id": "ae3d313e",
   "metadata": {},
   "outputs": [
    {
     "data": {
      "text/html": [
       "<div>\n",
       "<style scoped>\n",
       "    .dataframe tbody tr th:only-of-type {\n",
       "        vertical-align: middle;\n",
       "    }\n",
       "\n",
       "    .dataframe tbody tr th {\n",
       "        vertical-align: top;\n",
       "    }\n",
       "\n",
       "    .dataframe thead th {\n",
       "        text-align: right;\n",
       "    }\n",
       "</style>\n",
       "<table border=\"1\" class=\"dataframe\">\n",
       "  <thead>\n",
       "    <tr style=\"text-align: right;\">\n",
       "      <th></th>\n",
       "      <th>0</th>\n",
       "      <th>1</th>\n",
       "      <th>2</th>\n",
       "      <th>3</th>\n",
       "      <th>4</th>\n",
       "      <th>5</th>\n",
       "      <th>6</th>\n",
       "    </tr>\n",
       "  </thead>\n",
       "  <tbody>\n",
       "    <tr>\n",
       "      <th>0</th>\n",
       "      <td>0</td>\n",
       "      <td>77</td>\n",
       "      <td>250</td>\n",
       "      <td>186</td>\n",
       "      <td>140</td>\n",
       "      <td>2250</td>\n",
       "      <td>356.299597</td>\n",
       "    </tr>\n",
       "    <tr>\n",
       "      <th>1</th>\n",
       "      <td>1</td>\n",
       "      <td>120</td>\n",
       "      <td>350</td>\n",
       "      <td>337</td>\n",
       "      <td>250</td>\n",
       "      <td>2050</td>\n",
       "      <td>594.711794</td>\n",
       "    </tr>\n",
       "    <tr>\n",
       "      <th>2</th>\n",
       "      <td>2</td>\n",
       "      <td>50</td>\n",
       "      <td>250</td>\n",
       "      <td>120</td>\n",
       "      <td>180</td>\n",
       "      <td>2750</td>\n",
       "      <td>397.169697</td>\n",
       "    </tr>\n",
       "    <tr>\n",
       "      <th>3</th>\n",
       "      <td>3</td>\n",
       "      <td>77</td>\n",
       "      <td>450</td>\n",
       "      <td>242</td>\n",
       "      <td>280</td>\n",
       "      <td>2100</td>\n",
       "      <td>533.652731</td>\n",
       "    </tr>\n",
       "    <tr>\n",
       "      <th>4</th>\n",
       "      <td>4</td>\n",
       "      <td>50</td>\n",
       "      <td>200</td>\n",
       "      <td>109</td>\n",
       "      <td>200</td>\n",
       "      <td>3450</td>\n",
       "      <td>475.882888</td>\n",
       "    </tr>\n",
       "  </tbody>\n",
       "</table>\n",
       "</div>"
      ],
      "text/plain": [
       "   0    1    2    3    4     5           6\n",
       "0  0   77  250  186  140  2250  356.299597\n",
       "1  1  120  350  337  250  2050  594.711794\n",
       "2  2   50  250  120  180  2750  397.169697\n",
       "3  3   77  450  242  280  2100  533.652731\n",
       "4  4   50  200  109  200  3450  475.882888"
      ]
     },
     "execution_count": 3,
     "metadata": {},
     "output_type": "execute_result"
    }
   ],
   "source": [
    "data.head()\n"
   ]
  },
  {
   "cell_type": "code",
   "execution_count": 6,
   "id": "6c99c170",
   "metadata": {},
   "outputs": [],
   "source": [
    "x= data.iloc[:,0:6].to_numpy()\n",
    "y= data.iloc[:,6].to_numpy()"
   ]
  },
  {
   "cell_type": "code",
   "execution_count": 7,
   "id": "66fd222b",
   "metadata": {},
   "outputs": [
    {
     "name": "stdout",
     "output_type": "stream",
     "text": [
      "[356.2995965 594.7117945 397.1696973 533.6527312 475.8828877 419.4245187\n",
      " 711.2898343 541.5388347 630.480341  784.7885018 558.0701835 682.4359277\n",
      " 545.3691994 530.4304522 420.9039418 512.9576885 446.7888892 382.6971598\n",
      " 488.5032947 519.0499552 456.6873923 455.6030014 545.432786  568.4774227\n",
      " 702.5111452 745.7881396 394.7736027 519.5370003 504.7810886 466.8447227\n",
      " 797.4837935 541.7115156 404.4629393 642.5091799 501.3825274 629.9229934\n",
      " 500.8773496 575.0567456 493.7101956 421.5740609 570.9365464 311.9324739\n",
      " 440.2372941 590.8114438 553.1311155 426.002911  440.9649635 520.2895964\n",
      " 608.797323  480.0529465 416.0375934 277.7627831 660.7711645 373.8529064\n",
      " 472.7268121 701.6041968 513.9064712 339.5149337 572.7937595 404.4629393\n",
      " 570.3624506 585.0868557 480.8035371 716.5890236 383.8315579 657.7644084\n",
      " 788.0552638 388.013101  399.825208  498.5188482 561.1110392 425.6116148\n",
      " 414.3361357 524.132353  330.3410744 487.9805454 790.5006682 363.4847111\n",
      " 369.1498845 623.609487  375.8883379]\n"
     ]
    }
   ],
   "source": [
    "print(y)"
   ]
  },
  {
   "cell_type": "code",
   "execution_count": 8,
   "id": "caa877cb",
   "metadata": {},
   "outputs": [],
   "source": [
    "from sklearn.model_selection import train_test_split\n"
   ]
  },
  {
   "cell_type": "code",
   "execution_count": 9,
   "id": "9a11c107",
   "metadata": {},
   "outputs": [],
   "source": [
    "X_train, X_test, y_train, y_test = train_test_split(x, y, random_state=42)"
   ]
  },
  {
   "cell_type": "markdown",
   "id": "69dbe801",
   "metadata": {},
   "source": [
    "### Random forests"
   ]
  },
  {
   "cell_type": "code",
   "execution_count": 10,
   "id": "9011b389",
   "metadata": {},
   "outputs": [],
   "source": [
    "from sklearn.ensemble import RandomForestRegressor\n"
   ]
  },
  {
   "cell_type": "code",
   "execution_count": 11,
   "id": "dd77bacf",
   "metadata": {},
   "outputs": [
    {
     "data": {
      "text/plain": [
       "RandomForestRegressor(n_estimators=20, random_state=0)"
      ]
     },
     "execution_count": 11,
     "metadata": {},
     "output_type": "execute_result"
    }
   ],
   "source": [
    "forest = RandomForestRegressor(n_estimators=20, random_state=0)\n",
    "forest.fit(X_train, y_train)"
   ]
  },
  {
   "cell_type": "code",
   "execution_count": 12,
   "id": "1ffb3575",
   "metadata": {},
   "outputs": [
    {
     "name": "stdout",
     "output_type": "stream",
     "text": [
      "Accuracy on training set: 0.973\n",
      "Accuracy on test set: 0.876\n"
     ]
    }
   ],
   "source": [
    "print(\"Accuracy on training set: {:.3f}\".format(forest.score(X_train, y_train)))\n",
    "print(\"Accuracy on test set: {:.3f}\".format(forest.score(X_test, y_test)))"
   ]
  },
  {
   "cell_type": "code",
   "execution_count": 13,
   "id": "99d41706",
   "metadata": {},
   "outputs": [
    {
     "data": {
      "text/plain": [
       "RandomForestRegressor(n_estimators=50, random_state=0)"
      ]
     },
     "execution_count": 13,
     "metadata": {},
     "output_type": "execute_result"
    }
   ],
   "source": [
    "forest1 = RandomForestRegressor(n_estimators=50, random_state=0)\n",
    "forest1.fit(X_train, y_train)"
   ]
  },
  {
   "cell_type": "code",
   "execution_count": 14,
   "id": "2658e0aa",
   "metadata": {},
   "outputs": [
    {
     "name": "stdout",
     "output_type": "stream",
     "text": [
      "Accuracy on training set: 0.976\n",
      "Accuracy on test set: 0.866\n"
     ]
    }
   ],
   "source": [
    "print(\"Accuracy on training set: {:.3f}\".format(forest1.score(X_train, y_train)))\n",
    "print(\"Accuracy on test set: {:.3f}\".format(forest1.score(X_test, y_test)))"
   ]
  },
  {
   "cell_type": "code",
   "execution_count": 15,
   "id": "665725f1",
   "metadata": {},
   "outputs": [
    {
     "name": "stdout",
     "output_type": "stream",
     "text": [
      "Accuracy on training set: 0.982\n",
      "Accuracy on test set: 0.883\n"
     ]
    }
   ],
   "source": [
    "forest2 = RandomForestRegressor(n_estimators=1000, random_state=1)\n",
    "forest2.fit(X_train, y_train)\n",
    "print(\"Accuracy on training set: {:.3f}\".format(forest2.score(X_train, y_train)))\n",
    "print(\"Accuracy on test set: {:.3f}\".format(forest2.score(X_test, y_test)))"
   ]
  },
  {
   "cell_type": "code",
   "execution_count": 16,
   "id": "baefedc5",
   "metadata": {},
   "outputs": [
    {
     "name": "stdout",
     "output_type": "stream",
     "text": [
      "Test set predictions:\n",
      " [726.26237754 378.362649   539.87543158 496.96387976 513.06868834\n",
      " 495.56577905 597.07806499 558.39285639 472.16515301 484.96120026\n",
      " 480.36843053 575.35595566 400.81336096 595.05497678 436.49800056\n",
      " 411.50050817 482.80028376 607.62518148 679.63068722 513.10205015\n",
      " 712.97100125]\n"
     ]
    }
   ],
   "source": [
    "y_pred = forest2.predict(X_test)\n",
    "print(\"Test set predictions:\\n {}\".format(y_pred))\n"
   ]
  },
  {
   "cell_type": "code",
   "execution_count": 17,
   "id": "dc349893",
   "metadata": {},
   "outputs": [
    {
     "name": "stdout",
     "output_type": "stream",
     "text": [
      "[797.4837935 356.2995965 545.432786  541.7115156 488.5032947 504.7810886\n",
      " 558.0701835 561.1110392 475.8828877 545.3691994 480.0529465 642.5091799\n",
      " 388.013101  629.9229934 399.825208  426.002911  524.132353  585.0868557\n",
      " 701.6041968 570.9365464 784.7885018]\n"
     ]
    }
   ],
   "source": [
    "print(y_test)"
   ]
  },
  {
   "cell_type": "code",
   "execution_count": null,
   "id": "d4fbf254",
   "metadata": {},
   "outputs": [],
   "source": []
  },
  {
   "cell_type": "code",
   "execution_count": null,
   "id": "1bf47237",
   "metadata": {},
   "outputs": [],
   "source": []
  }
 ],
 "metadata": {
  "kernelspec": {
   "display_name": "Python 3",
   "language": "python",
   "name": "python3"
  },
  "language_info": {
   "codemirror_mode": {
    "name": "ipython",
    "version": 3
   },
   "file_extension": ".py",
   "mimetype": "text/x-python",
   "name": "python",
   "nbconvert_exporter": "python",
   "pygments_lexer": "ipython3",
   "version": "3.9.5"
  }
 },
 "nbformat": 4,
 "nbformat_minor": 5
}
